{
 "cells": [
  {
   "cell_type": "code",
   "execution_count": 1,
   "metadata": {},
   "outputs": [],
   "source": [
    "import pandas as pd\n",
    "import numpy as np\n",
    "import matplotlib.pyplot as plt\n",
    "import seaborn as sns\n",
    "import re"
   ]
  },
  {
   "cell_type": "markdown",
   "metadata": {},
   "source": [
    "Step #2 - Read in csv and display top 5 rows"
   ]
  },
  {
   "cell_type": "code",
   "execution_count": 2,
   "metadata": {},
   "outputs": [
    {
     "data": {
      "text/html": [
       "<div>\n",
       "<style scoped>\n",
       "    .dataframe tbody tr th:only-of-type {\n",
       "        vertical-align: middle;\n",
       "    }\n",
       "\n",
       "    .dataframe tbody tr th {\n",
       "        vertical-align: top;\n",
       "    }\n",
       "\n",
       "    .dataframe thead th {\n",
       "        text-align: right;\n",
       "    }\n",
       "</style>\n",
       "<table border=\"1\" class=\"dataframe\">\n",
       "  <thead>\n",
       "    <tr style=\"text-align: right;\">\n",
       "      <th></th>\n",
       "      <th>state</th>\n",
       "      <th>top_candy</th>\n",
       "      <th>top_candy_pounds</th>\n",
       "      <th>second_place</th>\n",
       "      <th>second_place_pounds</th>\n",
       "      <th>third_place</th>\n",
       "      <th>third_place_pounds</th>\n",
       "    </tr>\n",
       "  </thead>\n",
       "  <tbody>\n",
       "    <tr>\n",
       "      <th>0</th>\n",
       "      <td>Florida</td>\n",
       "      <td>Skittles</td>\n",
       "      <td>660000lbs</td>\n",
       "      <td>Snickers</td>\n",
       "      <td>543529lbs</td>\n",
       "      <td>Reese's Peanut Butter Cups</td>\n",
       "      <td>194117lbs</td>\n",
       "    </tr>\n",
       "    <tr>\n",
       "      <th>1</th>\n",
       "      <td>Kansas</td>\n",
       "      <td>M&amp;M's</td>\n",
       "      <td>247500lbs</td>\n",
       "      <td>Reese's Peanut Butter Cups</td>\n",
       "      <td>210375lbs</td>\n",
       "      <td>Dubble Bubble Gum</td>\n",
       "      <td>111375lbs</td>\n",
       "    </tr>\n",
       "    <tr>\n",
       "      <th>2</th>\n",
       "      <td>New York</td>\n",
       "      <td>Sour Patch Kids</td>\n",
       "      <td>198016lbs</td>\n",
       "      <td>Candy Corn</td>\n",
       "      <td>95047lbs</td>\n",
       "      <td>Reese's Peanut Butter Cups</td>\n",
       "      <td>39603lbs</td>\n",
       "    </tr>\n",
       "    <tr>\n",
       "      <th>3</th>\n",
       "      <td>Washington</td>\n",
       "      <td>Salt Water Taffy</td>\n",
       "      <td>207900lbs</td>\n",
       "      <td>Tootsie Pops</td>\n",
       "      <td>171211lbs</td>\n",
       "      <td>Hershey Kisses</td>\n",
       "      <td>61147lbs</td>\n",
       "    </tr>\n",
       "    <tr>\n",
       "      <th>4</th>\n",
       "      <td>California</td>\n",
       "      <td>Assorted Salt Water Taffy</td>\n",
       "      <td>1650000lbs</td>\n",
       "      <td>M&amp;M's</td>\n",
       "      <td>1188000lbs</td>\n",
       "      <td>Skittles</td>\n",
       "      <td>726000lbs</td>\n",
       "    </tr>\n",
       "    <tr>\n",
       "      <th>5</th>\n",
       "      <td>District of Columbia</td>\n",
       "      <td>M&amp;M's</td>\n",
       "      <td>26400lbs</td>\n",
       "      <td>Tootsie Pops</td>\n",
       "      <td>18276lbs</td>\n",
       "      <td>Blow Pops</td>\n",
       "      <td>10153lbs</td>\n",
       "    </tr>\n",
       "    <tr>\n",
       "      <th>6</th>\n",
       "      <td>Texas</td>\n",
       "      <td>Reese's Peanut Butter Cups</td>\n",
       "      <td>198990lbs</td>\n",
       "      <td>Starburst</td>\n",
       "      <td>187284lbs</td>\n",
       "      <td>Almond Joy</td>\n",
       "      <td>81937lbs</td>\n",
       "    </tr>\n",
       "    <tr>\n",
       "      <th>7</th>\n",
       "      <td>Alaska</td>\n",
       "      <td>Twix</td>\n",
       "      <td>5082lbs</td>\n",
       "      <td>Blow Pops</td>\n",
       "      <td>4012lbs</td>\n",
       "      <td>Kit Kat</td>\n",
       "      <td>3209lbs</td>\n",
       "    </tr>\n",
       "    <tr>\n",
       "      <th>8</th>\n",
       "      <td>Georgia</td>\n",
       "      <td>Swedish Fish</td>\n",
       "      <td>148731lbs</td>\n",
       "      <td>Hershey Kisses</td>\n",
       "      <td>88136lbs</td>\n",
       "      <td>Lemonheads</td>\n",
       "      <td>38559lbs</td>\n",
       "    </tr>\n",
       "    <tr>\n",
       "      <th>9</th>\n",
       "      <td>Missouri</td>\n",
       "      <td>Milky Way</td>\n",
       "      <td>47143lbs</td>\n",
       "      <td>Dubble Bubble Gum</td>\n",
       "      <td>27857lbs</td>\n",
       "      <td>Butterfinger</td>\n",
       "      <td>23571lbs</td>\n",
       "    </tr>\n",
       "  </tbody>\n",
       "</table>\n",
       "</div>"
      ],
      "text/plain": [
       "                  state                   top_candy top_candy_pounds  \\\n",
       "0               Florida                    Skittles        660000lbs   \n",
       "1                Kansas                       M&M's        247500lbs   \n",
       "2              New York             Sour Patch Kids        198016lbs   \n",
       "3            Washington            Salt Water Taffy        207900lbs   \n",
       "4            California   Assorted Salt Water Taffy       1650000lbs   \n",
       "5  District of Columbia                       M&M's         26400lbs   \n",
       "6                 Texas  Reese's Peanut Butter Cups        198990lbs   \n",
       "7                Alaska                        Twix          5082lbs   \n",
       "8               Georgia                Swedish Fish        148731lbs   \n",
       "9              Missouri                   Milky Way         47143lbs   \n",
       "\n",
       "                 second_place second_place_pounds                 third_place  \\\n",
       "0                    Snickers           543529lbs  Reese's Peanut Butter Cups   \n",
       "1  Reese's Peanut Butter Cups           210375lbs           Dubble Bubble Gum   \n",
       "2                  Candy Corn            95047lbs  Reese's Peanut Butter Cups   \n",
       "3                Tootsie Pops           171211lbs              Hershey Kisses   \n",
       "4                       M&M's          1188000lbs                    Skittles   \n",
       "5                Tootsie Pops            18276lbs                   Blow Pops   \n",
       "6                   Starburst           187284lbs                  Almond Joy   \n",
       "7                   Blow Pops             4012lbs                     Kit Kat   \n",
       "8              Hershey Kisses            88136lbs                  Lemonheads   \n",
       "9           Dubble Bubble Gum            27857lbs                Butterfinger   \n",
       "\n",
       "  third_place_pounds  \n",
       "0          194117lbs  \n",
       "1          111375lbs  \n",
       "2           39603lbs  \n",
       "3           61147lbs  \n",
       "4          726000lbs  \n",
       "5           10153lbs  \n",
       "6           81937lbs  \n",
       "7            3209lbs  \n",
       "8           38559lbs  \n",
       "9           23571lbs  "
      ]
     },
     "execution_count": 2,
     "metadata": {},
     "output_type": "execute_result"
    }
   ],
   "source": [
    "df_candy = pd.read_csv('data/top_halloween_candy.csv')\n",
    "\n",
    "df_candy.head(10)"
   ]
  },
  {
   "cell_type": "markdown",
   "metadata": {},
   "source": [
    "Step #3 - Unique candies in the top_candy column"
   ]
  },
  {
   "cell_type": "code",
   "execution_count": 3,
   "metadata": {},
   "outputs": [
    {
     "data": {
      "text/plain": [
       "25"
      ]
     },
     "execution_count": 3,
     "metadata": {},
     "output_type": "execute_result"
    }
   ],
   "source": [
    "df_candy['top_candy'].nunique()"
   ]
  },
  {
   "cell_type": "code",
   "execution_count": 4,
   "metadata": {},
   "outputs": [
    {
     "data": {
      "text/plain": [
       "array(['Skittles', \"M&M's\", 'Sour Patch Kids', 'Salt Water Taffy',\n",
       "       'Assorted Salt Water Taffy', \"Reese's Peanut Butter Cups\", 'Twix',\n",
       "       'Swedish Fish', 'Milky Way', 'Butterfinger', 'Hershey Kisses',\n",
       "       'Snickers', 'Jolly Ranchers Candy', 'Tootsie Pops', 'Blow Pops',\n",
       "       \"Hershey's Mini Chocolate Candy Bars\", 'Hot Tamales', 'Candy Corn',\n",
       "       '3 Musketeers', 'Lemonheads', 'Kit Kat', 'Starburst',\n",
       "       'Dubble Bubble Gum', 'Life Savers', 'Almond Joy'], dtype=object)"
      ]
     },
     "execution_count": 4,
     "metadata": {},
     "output_type": "execute_result"
    }
   ],
   "source": [
    "df_candy['top_candy'].unique()"
   ]
  },
  {
   "cell_type": "markdown",
   "metadata": {},
   "source": [
    "Step #3 - Most appearences in the top_candy column"
   ]
  },
  {
   "cell_type": "code",
   "execution_count": 47,
   "metadata": {},
   "outputs": [
    {
     "data": {
      "text/plain": [
       "top_candy\n",
       "Candy Corn                    5\n",
       "Reese's Peanut Butter Cups    5\n",
       "Name: top_candy, dtype: int64"
      ]
     },
     "execution_count": 47,
     "metadata": {},
     "output_type": "execute_result"
    }
   ],
   "source": [
    "df_candy.groupby('top_candy')['top_candy'].count().sort_values(ascending = False).head(2)\n",
    "\n",
    "#I got this wrong as I called .head(1)"
   ]
  },
  {
   "cell_type": "markdown",
   "metadata": {},
   "source": [
    "Step #4 - Remove lbs from the 3 mentioned columns"
   ]
  },
  {
   "cell_type": "code",
   "execution_count": 6,
   "metadata": {},
   "outputs": [
    {
     "data": {
      "text/html": [
       "<div>\n",
       "<style scoped>\n",
       "    .dataframe tbody tr th:only-of-type {\n",
       "        vertical-align: middle;\n",
       "    }\n",
       "\n",
       "    .dataframe tbody tr th {\n",
       "        vertical-align: top;\n",
       "    }\n",
       "\n",
       "    .dataframe thead th {\n",
       "        text-align: right;\n",
       "    }\n",
       "</style>\n",
       "<table border=\"1\" class=\"dataframe\">\n",
       "  <thead>\n",
       "    <tr style=\"text-align: right;\">\n",
       "      <th></th>\n",
       "      <th>state</th>\n",
       "      <th>top_candy</th>\n",
       "      <th>top_candy_pounds</th>\n",
       "      <th>second_place</th>\n",
       "      <th>second_place_pounds</th>\n",
       "      <th>third_place</th>\n",
       "      <th>third_place_pounds</th>\n",
       "    </tr>\n",
       "  </thead>\n",
       "  <tbody>\n",
       "    <tr>\n",
       "      <th>0</th>\n",
       "      <td>Florida</td>\n",
       "      <td>Skittles</td>\n",
       "      <td>660000lbs</td>\n",
       "      <td>Snickers</td>\n",
       "      <td>543529lbs</td>\n",
       "      <td>Reese's Peanut Butter Cups</td>\n",
       "      <td>194117lbs</td>\n",
       "    </tr>\n",
       "    <tr>\n",
       "      <th>1</th>\n",
       "      <td>Kansas</td>\n",
       "      <td>M&amp;M's</td>\n",
       "      <td>247500lbs</td>\n",
       "      <td>Reese's Peanut Butter Cups</td>\n",
       "      <td>210375lbs</td>\n",
       "      <td>Dubble Bubble Gum</td>\n",
       "      <td>111375lbs</td>\n",
       "    </tr>\n",
       "    <tr>\n",
       "      <th>2</th>\n",
       "      <td>New York</td>\n",
       "      <td>Sour Patch Kids</td>\n",
       "      <td>198016lbs</td>\n",
       "      <td>Candy Corn</td>\n",
       "      <td>95047lbs</td>\n",
       "      <td>Reese's Peanut Butter Cups</td>\n",
       "      <td>39603lbs</td>\n",
       "    </tr>\n",
       "    <tr>\n",
       "      <th>3</th>\n",
       "      <td>Washington</td>\n",
       "      <td>Salt Water Taffy</td>\n",
       "      <td>207900lbs</td>\n",
       "      <td>Tootsie Pops</td>\n",
       "      <td>171211lbs</td>\n",
       "      <td>Hershey Kisses</td>\n",
       "      <td>61147lbs</td>\n",
       "    </tr>\n",
       "    <tr>\n",
       "      <th>4</th>\n",
       "      <td>California</td>\n",
       "      <td>Assorted Salt Water Taffy</td>\n",
       "      <td>1650000lbs</td>\n",
       "      <td>M&amp;M's</td>\n",
       "      <td>1188000lbs</td>\n",
       "      <td>Skittles</td>\n",
       "      <td>726000lbs</td>\n",
       "    </tr>\n",
       "  </tbody>\n",
       "</table>\n",
       "</div>"
      ],
      "text/plain": [
       "        state                  top_candy top_candy_pounds  \\\n",
       "0     Florida                   Skittles        660000lbs   \n",
       "1      Kansas                      M&M's        247500lbs   \n",
       "2    New York            Sour Patch Kids        198016lbs   \n",
       "3  Washington           Salt Water Taffy        207900lbs   \n",
       "4  California  Assorted Salt Water Taffy       1650000lbs   \n",
       "\n",
       "                 second_place second_place_pounds                 third_place  \\\n",
       "0                    Snickers           543529lbs  Reese's Peanut Butter Cups   \n",
       "1  Reese's Peanut Butter Cups           210375lbs           Dubble Bubble Gum   \n",
       "2                  Candy Corn            95047lbs  Reese's Peanut Butter Cups   \n",
       "3                Tootsie Pops           171211lbs              Hershey Kisses   \n",
       "4                       M&M's          1188000lbs                    Skittles   \n",
       "\n",
       "  third_place_pounds  \n",
       "0          194117lbs  \n",
       "1          111375lbs  \n",
       "2           39603lbs  \n",
       "3           61147lbs  \n",
       "4          726000lbs  "
      ]
     },
     "execution_count": 6,
     "metadata": {},
     "output_type": "execute_result"
    }
   ],
   "source": [
    "#For checking before\n",
    "\n",
    "df_candy.head()"
   ]
  },
  {
   "cell_type": "markdown",
   "metadata": {},
   "source": [
    "Just to try it, here is a function, I think it could be more efficient, might come back to it if I have time"
   ]
  },
  {
   "cell_type": "code",
   "execution_count": 7,
   "metadata": {},
   "outputs": [],
   "source": [
    "#df_candy['top_candy_pounds'] = df_candy['top_candy_pounds'].str.extract('(\\d+)')\n",
    "\n",
    "def remove_lbs(dfname, column1, column2, column3): \n",
    "    dfname[column1] = dfname[column1].str.extract('(\\d+)')\n",
    "    dfname[column2] = dfname[column2].str.extract('(\\d+)')\n",
    "    dfname[column3] = dfname[column3].str.extract('(\\d+)')"
   ]
  },
  {
   "cell_type": "code",
   "execution_count": 8,
   "metadata": {},
   "outputs": [],
   "source": [
    "remove_lbs(df_candy, 'top_candy_pounds', 'second_place_pounds', 'third_place_pounds')"
   ]
  },
  {
   "cell_type": "code",
   "execution_count": 9,
   "metadata": {},
   "outputs": [
    {
     "data": {
      "text/html": [
       "<div>\n",
       "<style scoped>\n",
       "    .dataframe tbody tr th:only-of-type {\n",
       "        vertical-align: middle;\n",
       "    }\n",
       "\n",
       "    .dataframe tbody tr th {\n",
       "        vertical-align: top;\n",
       "    }\n",
       "\n",
       "    .dataframe thead th {\n",
       "        text-align: right;\n",
       "    }\n",
       "</style>\n",
       "<table border=\"1\" class=\"dataframe\">\n",
       "  <thead>\n",
       "    <tr style=\"text-align: right;\">\n",
       "      <th></th>\n",
       "      <th>state</th>\n",
       "      <th>top_candy</th>\n",
       "      <th>top_candy_pounds</th>\n",
       "      <th>second_place</th>\n",
       "      <th>second_place_pounds</th>\n",
       "      <th>third_place</th>\n",
       "      <th>third_place_pounds</th>\n",
       "    </tr>\n",
       "  </thead>\n",
       "  <tbody>\n",
       "    <tr>\n",
       "      <th>0</th>\n",
       "      <td>Florida</td>\n",
       "      <td>Skittles</td>\n",
       "      <td>660000</td>\n",
       "      <td>Snickers</td>\n",
       "      <td>543529</td>\n",
       "      <td>Reese's Peanut Butter Cups</td>\n",
       "      <td>194117</td>\n",
       "    </tr>\n",
       "    <tr>\n",
       "      <th>1</th>\n",
       "      <td>Kansas</td>\n",
       "      <td>M&amp;M's</td>\n",
       "      <td>247500</td>\n",
       "      <td>Reese's Peanut Butter Cups</td>\n",
       "      <td>210375</td>\n",
       "      <td>Dubble Bubble Gum</td>\n",
       "      <td>111375</td>\n",
       "    </tr>\n",
       "    <tr>\n",
       "      <th>2</th>\n",
       "      <td>New York</td>\n",
       "      <td>Sour Patch Kids</td>\n",
       "      <td>198016</td>\n",
       "      <td>Candy Corn</td>\n",
       "      <td>95047</td>\n",
       "      <td>Reese's Peanut Butter Cups</td>\n",
       "      <td>39603</td>\n",
       "    </tr>\n",
       "    <tr>\n",
       "      <th>3</th>\n",
       "      <td>Washington</td>\n",
       "      <td>Salt Water Taffy</td>\n",
       "      <td>207900</td>\n",
       "      <td>Tootsie Pops</td>\n",
       "      <td>171211</td>\n",
       "      <td>Hershey Kisses</td>\n",
       "      <td>61147</td>\n",
       "    </tr>\n",
       "    <tr>\n",
       "      <th>4</th>\n",
       "      <td>California</td>\n",
       "      <td>Assorted Salt Water Taffy</td>\n",
       "      <td>1650000</td>\n",
       "      <td>M&amp;M's</td>\n",
       "      <td>1188000</td>\n",
       "      <td>Skittles</td>\n",
       "      <td>726000</td>\n",
       "    </tr>\n",
       "  </tbody>\n",
       "</table>\n",
       "</div>"
      ],
      "text/plain": [
       "        state                  top_candy top_candy_pounds  \\\n",
       "0     Florida                   Skittles           660000   \n",
       "1      Kansas                      M&M's           247500   \n",
       "2    New York            Sour Patch Kids           198016   \n",
       "3  Washington           Salt Water Taffy           207900   \n",
       "4  California  Assorted Salt Water Taffy          1650000   \n",
       "\n",
       "                 second_place second_place_pounds                 third_place  \\\n",
       "0                    Snickers              543529  Reese's Peanut Butter Cups   \n",
       "1  Reese's Peanut Butter Cups              210375           Dubble Bubble Gum   \n",
       "2                  Candy Corn               95047  Reese's Peanut Butter Cups   \n",
       "3                Tootsie Pops              171211              Hershey Kisses   \n",
       "4                       M&M's             1188000                    Skittles   \n",
       "\n",
       "  third_place_pounds  \n",
       "0             194117  \n",
       "1             111375  \n",
       "2              39603  \n",
       "3              61147  \n",
       "4             726000  "
      ]
     },
     "execution_count": 9,
     "metadata": {},
     "output_type": "execute_result"
    }
   ],
   "source": [
    "#For checking before and after\n",
    "\n",
    "df_candy.head()"
   ]
  },
  {
   "cell_type": "markdown",
   "metadata": {},
   "source": [
    "Step #4 - Convert the 3 columns to numeric type"
   ]
  },
  {
   "cell_type": "code",
   "execution_count": 10,
   "metadata": {},
   "outputs": [],
   "source": [
    "def mkint (dfname, column): \n",
    "    dfname[column] = dfname[column].astype('int64')"
   ]
  },
  {
   "cell_type": "code",
   "execution_count": 11,
   "metadata": {},
   "outputs": [],
   "source": [
    "mkint(df_candy, 'top_candy_pounds')\n",
    "mkint(df_candy, 'second_place_pounds')\n",
    "mkint(df_candy, 'third_place_pounds')"
   ]
  },
  {
   "cell_type": "code",
   "execution_count": 12,
   "metadata": {},
   "outputs": [
    {
     "name": "stdout",
     "output_type": "stream",
     "text": [
      "<class 'pandas.core.frame.DataFrame'>\n",
      "RangeIndex: 51 entries, 0 to 50\n",
      "Data columns (total 7 columns):\n",
      " #   Column               Non-Null Count  Dtype \n",
      "---  ------               --------------  ----- \n",
      " 0   state                51 non-null     object\n",
      " 1   top_candy            51 non-null     object\n",
      " 2   top_candy_pounds     51 non-null     int64 \n",
      " 3   second_place         51 non-null     object\n",
      " 4   second_place_pounds  51 non-null     int64 \n",
      " 5   third_place          51 non-null     object\n",
      " 6   third_place_pounds   51 non-null     int64 \n",
      "dtypes: int64(3), object(4)\n",
      "memory usage: 2.9+ KB\n"
     ]
    }
   ],
   "source": [
    "#Shows changes in datatypes for the requested columns\n",
    "\n",
    "df_candy.info()"
   ]
  },
  {
   "cell_type": "markdown",
   "metadata": {},
   "source": [
    "Step #5 - Create new column and combine other columns"
   ]
  },
  {
   "cell_type": "code",
   "execution_count": 13,
   "metadata": {},
   "outputs": [],
   "source": [
    "df_candy['total_pounds'] = df_candy['top_candy_pounds'] + df_candy['second_place_pounds'] + df_candy['third_place_pounds']"
   ]
  },
  {
   "cell_type": "code",
   "execution_count": 14,
   "metadata": {},
   "outputs": [
    {
     "data": {
      "text/html": [
       "<div>\n",
       "<style scoped>\n",
       "    .dataframe tbody tr th:only-of-type {\n",
       "        vertical-align: middle;\n",
       "    }\n",
       "\n",
       "    .dataframe tbody tr th {\n",
       "        vertical-align: top;\n",
       "    }\n",
       "\n",
       "    .dataframe thead th {\n",
       "        text-align: right;\n",
       "    }\n",
       "</style>\n",
       "<table border=\"1\" class=\"dataframe\">\n",
       "  <thead>\n",
       "    <tr style=\"text-align: right;\">\n",
       "      <th></th>\n",
       "      <th>state</th>\n",
       "      <th>top_candy</th>\n",
       "      <th>top_candy_pounds</th>\n",
       "      <th>second_place</th>\n",
       "      <th>second_place_pounds</th>\n",
       "      <th>third_place</th>\n",
       "      <th>third_place_pounds</th>\n",
       "      <th>total_pounds</th>\n",
       "    </tr>\n",
       "  </thead>\n",
       "  <tbody>\n",
       "    <tr>\n",
       "      <th>0</th>\n",
       "      <td>Florida</td>\n",
       "      <td>Skittles</td>\n",
       "      <td>660000</td>\n",
       "      <td>Snickers</td>\n",
       "      <td>543529</td>\n",
       "      <td>Reese's Peanut Butter Cups</td>\n",
       "      <td>194117</td>\n",
       "      <td>1397646</td>\n",
       "    </tr>\n",
       "    <tr>\n",
       "      <th>1</th>\n",
       "      <td>Kansas</td>\n",
       "      <td>M&amp;M's</td>\n",
       "      <td>247500</td>\n",
       "      <td>Reese's Peanut Butter Cups</td>\n",
       "      <td>210375</td>\n",
       "      <td>Dubble Bubble Gum</td>\n",
       "      <td>111375</td>\n",
       "      <td>569250</td>\n",
       "    </tr>\n",
       "    <tr>\n",
       "      <th>2</th>\n",
       "      <td>New York</td>\n",
       "      <td>Sour Patch Kids</td>\n",
       "      <td>198016</td>\n",
       "      <td>Candy Corn</td>\n",
       "      <td>95047</td>\n",
       "      <td>Reese's Peanut Butter Cups</td>\n",
       "      <td>39603</td>\n",
       "      <td>332666</td>\n",
       "    </tr>\n",
       "    <tr>\n",
       "      <th>3</th>\n",
       "      <td>Washington</td>\n",
       "      <td>Salt Water Taffy</td>\n",
       "      <td>207900</td>\n",
       "      <td>Tootsie Pops</td>\n",
       "      <td>171211</td>\n",
       "      <td>Hershey Kisses</td>\n",
       "      <td>61147</td>\n",
       "      <td>440258</td>\n",
       "    </tr>\n",
       "    <tr>\n",
       "      <th>4</th>\n",
       "      <td>California</td>\n",
       "      <td>Assorted Salt Water Taffy</td>\n",
       "      <td>1650000</td>\n",
       "      <td>M&amp;M's</td>\n",
       "      <td>1188000</td>\n",
       "      <td>Skittles</td>\n",
       "      <td>726000</td>\n",
       "      <td>3564000</td>\n",
       "    </tr>\n",
       "  </tbody>\n",
       "</table>\n",
       "</div>"
      ],
      "text/plain": [
       "        state                  top_candy  top_candy_pounds  \\\n",
       "0     Florida                   Skittles            660000   \n",
       "1      Kansas                      M&M's            247500   \n",
       "2    New York            Sour Patch Kids            198016   \n",
       "3  Washington           Salt Water Taffy            207900   \n",
       "4  California  Assorted Salt Water Taffy           1650000   \n",
       "\n",
       "                 second_place  second_place_pounds  \\\n",
       "0                    Snickers               543529   \n",
       "1  Reese's Peanut Butter Cups               210375   \n",
       "2                  Candy Corn                95047   \n",
       "3                Tootsie Pops               171211   \n",
       "4                       M&M's              1188000   \n",
       "\n",
       "                  third_place  third_place_pounds  total_pounds  \n",
       "0  Reese's Peanut Butter Cups              194117       1397646  \n",
       "1           Dubble Bubble Gum              111375        569250  \n",
       "2  Reese's Peanut Butter Cups               39603        332666  \n",
       "3              Hershey Kisses               61147        440258  \n",
       "4                    Skittles              726000       3564000  "
      ]
     },
     "execution_count": 14,
     "metadata": {},
     "output_type": "execute_result"
    }
   ],
   "source": [
    "#Shows that it worked\n",
    "\n",
    "df_candy.head()"
   ]
  },
  {
   "cell_type": "code",
   "execution_count": 15,
   "metadata": {},
   "outputs": [
    {
     "data": {
      "text/plain": [
       "1397646"
      ]
     },
     "execution_count": 15,
     "metadata": {},
     "output_type": "execute_result"
    }
   ],
   "source": [
    "#Prove that the math was correct...even though we know it is, useful with more complicated operations\n",
    "\n",
    "df_candy.iloc[0,2] + df_candy.iloc[0,4] + df_candy.iloc[0,6]"
   ]
  },
  {
   "cell_type": "markdown",
   "metadata": {},
   "source": [
    "Step #6 - Which states consume the MOST of its 1st, 2nd, and 3rd place candies combined? "
   ]
  },
  {
   "cell_type": "code",
   "execution_count": 16,
   "metadata": {},
   "outputs": [
    {
     "data": {
      "text/html": [
       "<div>\n",
       "<style scoped>\n",
       "    .dataframe tbody tr th:only-of-type {\n",
       "        vertical-align: middle;\n",
       "    }\n",
       "\n",
       "    .dataframe tbody tr th {\n",
       "        vertical-align: top;\n",
       "    }\n",
       "\n",
       "    .dataframe thead th {\n",
       "        text-align: right;\n",
       "    }\n",
       "</style>\n",
       "<table border=\"1\" class=\"dataframe\">\n",
       "  <thead>\n",
       "    <tr style=\"text-align: right;\">\n",
       "      <th></th>\n",
       "      <th>state</th>\n",
       "      <th>top_candy</th>\n",
       "      <th>top_candy_pounds</th>\n",
       "      <th>second_place</th>\n",
       "      <th>second_place_pounds</th>\n",
       "      <th>third_place</th>\n",
       "      <th>third_place_pounds</th>\n",
       "      <th>total_pounds</th>\n",
       "    </tr>\n",
       "  </thead>\n",
       "  <tbody>\n",
       "    <tr>\n",
       "      <th>4</th>\n",
       "      <td>California</td>\n",
       "      <td>Assorted Salt Water Taffy</td>\n",
       "      <td>1650000</td>\n",
       "      <td>M&amp;M's</td>\n",
       "      <td>1188000</td>\n",
       "      <td>Skittles</td>\n",
       "      <td>726000</td>\n",
       "      <td>3564000</td>\n",
       "    </tr>\n",
       "    <tr>\n",
       "      <th>49</th>\n",
       "      <td>Arizona</td>\n",
       "      <td>Snickers</td>\n",
       "      <td>963971</td>\n",
       "      <td>Hershey Kisses</td>\n",
       "      <td>680450</td>\n",
       "      <td>Hot Tamales Minis</td>\n",
       "      <td>453633</td>\n",
       "      <td>2098054</td>\n",
       "    </tr>\n",
       "    <tr>\n",
       "      <th>0</th>\n",
       "      <td>Florida</td>\n",
       "      <td>Skittles</td>\n",
       "      <td>660000</td>\n",
       "      <td>Snickers</td>\n",
       "      <td>543529</td>\n",
       "      <td>Reese's Peanut Butter Cups</td>\n",
       "      <td>194117</td>\n",
       "      <td>1397646</td>\n",
       "    </tr>\n",
       "    <tr>\n",
       "      <th>42</th>\n",
       "      <td>Utah</td>\n",
       "      <td>Jolly Ranchers Candy</td>\n",
       "      <td>469590</td>\n",
       "      <td>Reese's Peanut Butter Cups</td>\n",
       "      <td>260883</td>\n",
       "      <td>Tootsie Pops</td>\n",
       "      <td>139137</td>\n",
       "      <td>869610</td>\n",
       "    </tr>\n",
       "    <tr>\n",
       "      <th>41</th>\n",
       "      <td>Pennsylvania</td>\n",
       "      <td>Skittles</td>\n",
       "      <td>299442</td>\n",
       "      <td>M&amp;M's</td>\n",
       "      <td>269497</td>\n",
       "      <td>Hershey's Mini Chocolate Candy Bars</td>\n",
       "      <td>104804</td>\n",
       "      <td>673743</td>\n",
       "    </tr>\n",
       "  </tbody>\n",
       "</table>\n",
       "</div>"
      ],
      "text/plain": [
       "           state                  top_candy  top_candy_pounds  \\\n",
       "4     California  Assorted Salt Water Taffy           1650000   \n",
       "49       Arizona                   Snickers            963971   \n",
       "0        Florida                   Skittles            660000   \n",
       "42          Utah       Jolly Ranchers Candy            469590   \n",
       "41  Pennsylvania                   Skittles            299442   \n",
       "\n",
       "                  second_place  second_place_pounds  \\\n",
       "4                        M&M's              1188000   \n",
       "49              Hershey Kisses               680450   \n",
       "0                     Snickers               543529   \n",
       "42  Reese's Peanut Butter Cups               260883   \n",
       "41                       M&M's               269497   \n",
       "\n",
       "                            third_place  third_place_pounds  total_pounds  \n",
       "4                              Skittles              726000       3564000  \n",
       "49                    Hot Tamales Minis              453633       2098054  \n",
       "0            Reese's Peanut Butter Cups              194117       1397646  \n",
       "42                         Tootsie Pops              139137        869610  \n",
       "41  Hershey's Mini Chocolate Candy Bars              104804        673743  "
      ]
     },
     "execution_count": 16,
     "metadata": {},
     "output_type": "execute_result"
    }
   ],
   "source": [
    "#One way to do it\n",
    "\n",
    "df_candy.sort_values('total_pounds', ascending = False).head(5)"
   ]
  },
  {
   "cell_type": "code",
   "execution_count": 17,
   "metadata": {},
   "outputs": [
    {
     "data": {
      "text/plain": [
       "state\n",
       "California      3564000\n",
       "Arizona         2098054\n",
       "Florida         1397646\n",
       "Utah             869610\n",
       "Pennsylvania     673743\n",
       "Name: total_pounds, dtype: int64"
      ]
     },
     "execution_count": 17,
     "metadata": {},
     "output_type": "execute_result"
    }
   ],
   "source": [
    "#Another way to do it\n",
    "\n",
    "df_candy.groupby('state')['total_pounds'].sum().sort_values(ascending = False).head(5)"
   ]
  },
  {
   "cell_type": "markdown",
   "metadata": {},
   "source": [
    "Step #6 - Which states consume the LEAST of its 1st, 2nd, and 3rd place candies combined? "
   ]
  },
  {
   "cell_type": "code",
   "execution_count": 18,
   "metadata": {},
   "outputs": [
    {
     "data": {
      "text/plain": [
       "state\n",
       "Connecticut      4895\n",
       "Alaska          12303\n",
       "Colorado        12909\n",
       "Rhode Island    35392\n",
       "Oklahoma        35592\n",
       "Name: total_pounds, dtype: int64"
      ]
     },
     "execution_count": 18,
     "metadata": {},
     "output_type": "execute_result"
    }
   ],
   "source": [
    "df_candy.groupby('state')['total_pounds'].sum().sort_values().head(5)"
   ]
  },
  {
   "cell_type": "markdown",
   "metadata": {},
   "source": [
    "Step #7 - Read in population csv"
   ]
  },
  {
   "cell_type": "code",
   "execution_count": 19,
   "metadata": {},
   "outputs": [],
   "source": [
    "df_pop = pd.read_csv('data/population_est2017.csv')"
   ]
  },
  {
   "cell_type": "code",
   "execution_count": 20,
   "metadata": {},
   "outputs": [
    {
     "data": {
      "text/html": [
       "<div>\n",
       "<style scoped>\n",
       "    .dataframe tbody tr th:only-of-type {\n",
       "        vertical-align: middle;\n",
       "    }\n",
       "\n",
       "    .dataframe tbody tr th {\n",
       "        vertical-align: top;\n",
       "    }\n",
       "\n",
       "    .dataframe thead th {\n",
       "        text-align: right;\n",
       "    }\n",
       "</style>\n",
       "<table border=\"1\" class=\"dataframe\">\n",
       "  <thead>\n",
       "    <tr style=\"text-align: right;\">\n",
       "      <th></th>\n",
       "      <th>NAME</th>\n",
       "      <th>POPESTIMATE2017</th>\n",
       "    </tr>\n",
       "  </thead>\n",
       "  <tbody>\n",
       "    <tr>\n",
       "      <th>0</th>\n",
       "      <td>Alabama</td>\n",
       "      <td>4874747</td>\n",
       "    </tr>\n",
       "    <tr>\n",
       "      <th>1</th>\n",
       "      <td>Alaska</td>\n",
       "      <td>739795</td>\n",
       "    </tr>\n",
       "    <tr>\n",
       "      <th>2</th>\n",
       "      <td>Arizona</td>\n",
       "      <td>7016270</td>\n",
       "    </tr>\n",
       "    <tr>\n",
       "      <th>3</th>\n",
       "      <td>Arkansas</td>\n",
       "      <td>3004279</td>\n",
       "    </tr>\n",
       "    <tr>\n",
       "      <th>4</th>\n",
       "      <td>California</td>\n",
       "      <td>39536653</td>\n",
       "    </tr>\n",
       "  </tbody>\n",
       "</table>\n",
       "</div>"
      ],
      "text/plain": [
       "         NAME  POPESTIMATE2017\n",
       "0     Alabama          4874747\n",
       "1      Alaska           739795\n",
       "2     Arizona          7016270\n",
       "3    Arkansas          3004279\n",
       "4  California         39536653"
      ]
     },
     "execution_count": 20,
     "metadata": {},
     "output_type": "execute_result"
    }
   ],
   "source": [
    "df_pop.head()"
   ]
  },
  {
   "cell_type": "markdown",
   "metadata": {},
   "source": [
    "Step #7 - Merge population data with candy data"
   ]
  },
  {
   "cell_type": "code",
   "execution_count": 21,
   "metadata": {},
   "outputs": [],
   "source": [
    "#Rename column so they merge, rename pop column so I don't have to type that out\n",
    "\n",
    "df_pop.rename(columns = {'NAME' : 'state', 'POPESTIMATE2017': 'pop'}, inplace = True)"
   ]
  },
  {
   "cell_type": "code",
   "execution_count": 22,
   "metadata": {},
   "outputs": [],
   "source": [
    "#Easy merge\n",
    "\n",
    "df_candy_pop = df_candy.merge(df_pop, on='state')"
   ]
  },
  {
   "cell_type": "code",
   "execution_count": 23,
   "metadata": {},
   "outputs": [
    {
     "name": "stdout",
     "output_type": "stream",
     "text": [
      "<class 'pandas.core.frame.DataFrame'>\n",
      "Int64Index: 51 entries, 0 to 50\n",
      "Data columns (total 9 columns):\n",
      " #   Column               Non-Null Count  Dtype \n",
      "---  ------               --------------  ----- \n",
      " 0   state                51 non-null     object\n",
      " 1   top_candy            51 non-null     object\n",
      " 2   top_candy_pounds     51 non-null     int64 \n",
      " 3   second_place         51 non-null     object\n",
      " 4   second_place_pounds  51 non-null     int64 \n",
      " 5   third_place          51 non-null     object\n",
      " 6   third_place_pounds   51 non-null     int64 \n",
      " 7   total_pounds         51 non-null     int64 \n",
      " 8   pop                  51 non-null     int64 \n",
      "dtypes: int64(5), object(4)\n",
      "memory usage: 4.0+ KB\n"
     ]
    }
   ],
   "source": [
    "#Pop is already an int!\n",
    "\n",
    "df_candy_pop.info()"
   ]
  },
  {
   "cell_type": "markdown",
   "metadata": {},
   "source": [
    "Step #8 - New column 'per capita' to show the average combined weight of 1st, 2nd, and 3rd place candies consumed per person in each state"
   ]
  },
  {
   "cell_type": "code",
   "execution_count": 24,
   "metadata": {},
   "outputs": [],
   "source": [
    "df_candy_pop['per_capita'] = df_candy_pop['total_pounds']/df_candy_pop['pop']"
   ]
  },
  {
   "cell_type": "code",
   "execution_count": 25,
   "metadata": {},
   "outputs": [
    {
     "data": {
      "text/html": [
       "<div>\n",
       "<style scoped>\n",
       "    .dataframe tbody tr th:only-of-type {\n",
       "        vertical-align: middle;\n",
       "    }\n",
       "\n",
       "    .dataframe tbody tr th {\n",
       "        vertical-align: top;\n",
       "    }\n",
       "\n",
       "    .dataframe thead th {\n",
       "        text-align: right;\n",
       "    }\n",
       "</style>\n",
       "<table border=\"1\" class=\"dataframe\">\n",
       "  <thead>\n",
       "    <tr style=\"text-align: right;\">\n",
       "      <th></th>\n",
       "      <th>state</th>\n",
       "      <th>top_candy</th>\n",
       "      <th>top_candy_pounds</th>\n",
       "      <th>second_place</th>\n",
       "      <th>second_place_pounds</th>\n",
       "      <th>third_place</th>\n",
       "      <th>third_place_pounds</th>\n",
       "      <th>total_pounds</th>\n",
       "      <th>pop</th>\n",
       "      <th>per_capita</th>\n",
       "    </tr>\n",
       "  </thead>\n",
       "  <tbody>\n",
       "    <tr>\n",
       "      <th>0</th>\n",
       "      <td>Florida</td>\n",
       "      <td>Skittles</td>\n",
       "      <td>660000</td>\n",
       "      <td>Snickers</td>\n",
       "      <td>543529</td>\n",
       "      <td>Reese's Peanut Butter Cups</td>\n",
       "      <td>194117</td>\n",
       "      <td>1397646</td>\n",
       "      <td>20984400</td>\n",
       "      <td>0.066604</td>\n",
       "    </tr>\n",
       "    <tr>\n",
       "      <th>1</th>\n",
       "      <td>Kansas</td>\n",
       "      <td>M&amp;M's</td>\n",
       "      <td>247500</td>\n",
       "      <td>Reese's Peanut Butter Cups</td>\n",
       "      <td>210375</td>\n",
       "      <td>Dubble Bubble Gum</td>\n",
       "      <td>111375</td>\n",
       "      <td>569250</td>\n",
       "      <td>2913123</td>\n",
       "      <td>0.195409</td>\n",
       "    </tr>\n",
       "    <tr>\n",
       "      <th>2</th>\n",
       "      <td>New York</td>\n",
       "      <td>Sour Patch Kids</td>\n",
       "      <td>198016</td>\n",
       "      <td>Candy Corn</td>\n",
       "      <td>95047</td>\n",
       "      <td>Reese's Peanut Butter Cups</td>\n",
       "      <td>39603</td>\n",
       "      <td>332666</td>\n",
       "      <td>19849399</td>\n",
       "      <td>0.016759</td>\n",
       "    </tr>\n",
       "    <tr>\n",
       "      <th>3</th>\n",
       "      <td>Washington</td>\n",
       "      <td>Salt Water Taffy</td>\n",
       "      <td>207900</td>\n",
       "      <td>Tootsie Pops</td>\n",
       "      <td>171211</td>\n",
       "      <td>Hershey Kisses</td>\n",
       "      <td>61147</td>\n",
       "      <td>440258</td>\n",
       "      <td>7405743</td>\n",
       "      <td>0.059448</td>\n",
       "    </tr>\n",
       "    <tr>\n",
       "      <th>4</th>\n",
       "      <td>California</td>\n",
       "      <td>Assorted Salt Water Taffy</td>\n",
       "      <td>1650000</td>\n",
       "      <td>M&amp;M's</td>\n",
       "      <td>1188000</td>\n",
       "      <td>Skittles</td>\n",
       "      <td>726000</td>\n",
       "      <td>3564000</td>\n",
       "      <td>39536653</td>\n",
       "      <td>0.090144</td>\n",
       "    </tr>\n",
       "  </tbody>\n",
       "</table>\n",
       "</div>"
      ],
      "text/plain": [
       "        state                  top_candy  top_candy_pounds  \\\n",
       "0     Florida                   Skittles            660000   \n",
       "1      Kansas                      M&M's            247500   \n",
       "2    New York            Sour Patch Kids            198016   \n",
       "3  Washington           Salt Water Taffy            207900   \n",
       "4  California  Assorted Salt Water Taffy           1650000   \n",
       "\n",
       "                 second_place  second_place_pounds  \\\n",
       "0                    Snickers               543529   \n",
       "1  Reese's Peanut Butter Cups               210375   \n",
       "2                  Candy Corn                95047   \n",
       "3                Tootsie Pops               171211   \n",
       "4                       M&M's              1188000   \n",
       "\n",
       "                  third_place  third_place_pounds  total_pounds       pop  \\\n",
       "0  Reese's Peanut Butter Cups              194117       1397646  20984400   \n",
       "1           Dubble Bubble Gum              111375        569250   2913123   \n",
       "2  Reese's Peanut Butter Cups               39603        332666  19849399   \n",
       "3              Hershey Kisses               61147        440258   7405743   \n",
       "4                    Skittles              726000       3564000  39536653   \n",
       "\n",
       "   per_capita  \n",
       "0    0.066604  \n",
       "1    0.195409  \n",
       "2    0.016759  \n",
       "3    0.059448  \n",
       "4    0.090144  "
      ]
     },
     "execution_count": 25,
     "metadata": {},
     "output_type": "execute_result"
    }
   ],
   "source": [
    "df_candy_pop.head()"
   ]
  },
  {
   "cell_type": "markdown",
   "metadata": {},
   "source": [
    "Step #9 - Which state has the greatest (combined) consumption of its 1st, 2nd, and 3rd place candies per capita? Which has the least?"
   ]
  },
  {
   "cell_type": "code",
   "execution_count": 26,
   "metadata": {},
   "outputs": [
    {
     "data": {
      "text/plain": [
       "state\n",
       "Hawaii          0.443022\n",
       "Arizona         0.299027\n",
       "Utah            0.280354\n",
       "North Dakota    0.225354\n",
       "Nevada          0.218144\n",
       "Name: per_capita, dtype: float64"
      ]
     },
     "execution_count": 26,
     "metadata": {},
     "output_type": "execute_result"
    }
   ],
   "source": [
    "#Greatest combined\n",
    "\n",
    "df_candy_pop.groupby('state')['per_capita'].sum().sort_values(ascending = False).head(5)"
   ]
  },
  {
   "cell_type": "code",
   "execution_count": 27,
   "metadata": {},
   "outputs": [
    {
     "data": {
      "text/plain": [
       "state\n",
       "Connecticut    0.001364\n",
       "Colorado       0.002302\n",
       "Oklahoma       0.009054\n",
       "Maryland       0.012844\n",
       "Tennessee      0.015591\n",
       "Name: per_capita, dtype: float64"
      ]
     },
     "execution_count": 27,
     "metadata": {},
     "output_type": "execute_result"
    }
   ],
   "source": [
    "#Least combined\n",
    "\n",
    "df_candy_pop.groupby('state')['per_capita'].sum().sort_values().head(5)"
   ]
  },
  {
   "cell_type": "markdown",
   "metadata": {},
   "source": [
    "Step #10 - Create a visualization showing the distribution of 'per capita' values by state."
   ]
  },
  {
   "cell_type": "code",
   "execution_count": 28,
   "metadata": {},
   "outputs": [],
   "source": [
    "#Sort by consumption\n",
    "\n",
    "df_candy_pop.sort_values('per_capita', inplace = True)"
   ]
  },
  {
   "cell_type": "code",
   "execution_count": 29,
   "metadata": {},
   "outputs": [
    {
     "data": {
      "text/plain": [
       "[Text(0, 0.5, ''), (0.0, 0.5), Text(0.5, 0, 'Pounds')]"
      ]
     },
     "execution_count": 29,
     "metadata": {},
     "output_type": "execute_result"
    },
    {
     "data": {
      "image/png": "[encoded data removed]",
      "text/plain": [
       "<Figure size 720x720 with 1 Axes>"
      ]
     },
     "metadata": {},
     "output_type": "display_data"
    }
   ],
   "source": [
    "sns.set_style('darkgrid')\n",
    "sns.set_palette('bright')\n",
    "\n",
    "fig, ax0 = plt.subplots(figsize = (10,10))\n",
    "\n",
    "g0 = sns.barplot(x = 'per_capita', y = 'state', \n",
    "            data = df_candy_pop, ax = ax0,)\n",
    "\n",
    "#Created xlim because I think it makes a good reference\n",
    "#Removed y axis label on purpose because it would be redundant/obvious\n",
    "\n",
    "ax0.set_title('State Per Capita Candy Consumption (Top 3 Combined)')\n",
    "ax0.set(xlabel = 'Pounds', ylabel = '', xlim = (0,0.5))"
   ]
  },
  {
   "cell_type": "code",
   "execution_count": 30,
   "metadata": {},
   "outputs": [],
   "source": [
    "#Alphabetize \n",
    "\n",
    "df_candy_pop.sort_values('state', inplace = True)"
   ]
  },
  {
   "cell_type": "code",
   "execution_count": 31,
   "metadata": {},
   "outputs": [
    {
     "data": {
      "text/plain": [
       "[Text(0, 0.5, ''), (0.0, 0.5), Text(0.5, 0, 'Pounds')]"
      ]
     },
     "execution_count": 31,
     "metadata": {},
     "output_type": "execute_result"
    },
    {
     "data": {
      "image/png": "[encoded data removed]",
      "text/plain": [
       "<Figure size 720x720 with 1 Axes>"
      ]
     },
     "metadata": {},
     "output_type": "display_data"
    }
   ],
   "source": [
    "sns.set_style('darkgrid')\n",
    "sns.set_palette('bright')\n",
    "\n",
    "fig, ax0 = plt.subplots(figsize = (10,10))\n",
    "\n",
    "g0 = sns.barplot(x = 'per_capita', y = 'state', \n",
    "            data = df_candy_pop, ax = ax0,)\n",
    "\n",
    "#Created xlim because I think it makes a good reference\n",
    "#Removed y axis label on purpose because it would be redundant/obvious\n",
    "\n",
    "ax0.set_title('State Per Capita Candy Consumption (Top 3 Combined)')\n",
    "ax0.set(xlabel = 'Pounds', ylabel = '', xlim = (0,0.5))"
   ]
  },
  {
   "cell_type": "markdown",
   "metadata": {},
   "source": [
    "Step #10 - Can you think of any limitations of comparing states using this metric? "
   ]
  },
  {
   "cell_type": "markdown",
   "metadata": {},
   "source": [
    "I don't think using per capita candy consumption is all that bad, based on the context of this study. However, there are a few factors we could consider to get a more \"true\" outlook on candy consumption.\n",
    "\n",
    "First off, this is slightly flawed since we're looking at only the top 3 candies. It's very possible that only the top 3 candies are statistically significant in that there could be evidence that the vast majority of candy consumers have a favorite and choose not to consume any significant value of other candies. However, we have no evidence of this. \n",
    "\n",
    "Secondly, this data tells us nothing of other candies consumed. It's very possible that per capita consumption changes greatly if we are to look at the actual total pounds consumper per capita. It would be interesting to see if certain states place favorites with particularly popular candies while others do not. \n",
    "\n",
    "Thirdly, dovetailing on my second point is the data regarding Hawaii. Being that Hawaii most likley has fewer choices in consumption, being more difficult and costly to ship to, it is likely that their skew shown in this data shows evidence towards my second point. Oddly enough, this is the opposite for Alaska. "
   ]
  },
  {
   "cell_type": "markdown",
   "metadata": {},
   "source": [
    "Step #11 - Create a visualization to show the top 3 candies for the State of Tennessee"
   ]
  },
  {
   "cell_type": "code",
   "execution_count": 32,
   "metadata": {},
   "outputs": [
    {
     "data": {
      "text/plain": [
       "top_candy                  Tootsie Pops\n",
       "top_candy_pounds                  58740\n",
       "second_place           Salt Water Taffy\n",
       "second_place_pounds               33200\n",
       "third_place                    Skittles\n",
       "third_place_pounds                12769\n",
       "total_pounds                     104709\n",
       "pop                             6715984\n",
       "per_capita                     0.015591\n",
       "Name: Tennessee, dtype: object"
      ]
     },
     "execution_count": 32,
     "metadata": {},
     "output_type": "execute_result"
    }
   ],
   "source": [
    "#Set index to make the column .loc searchable\n",
    "\n",
    "df_candy_pop.set_index('state', inplace = True)\n",
    "\n",
    "df_candy_pop.loc['Tennessee']"
   ]
  },
  {
   "cell_type": "code",
   "execution_count": 33,
   "metadata": {},
   "outputs": [
    {
     "data": {
      "text/html": [
       "<div>\n",
       "<style scoped>\n",
       "    .dataframe tbody tr th:only-of-type {\n",
       "        vertical-align: middle;\n",
       "    }\n",
       "\n",
       "    .dataframe tbody tr th {\n",
       "        vertical-align: top;\n",
       "    }\n",
       "\n",
       "    .dataframe thead th {\n",
       "        text-align: right;\n",
       "    }\n",
       "</style>\n",
       "<table border=\"1\" class=\"dataframe\">\n",
       "  <thead>\n",
       "    <tr style=\"text-align: right;\">\n",
       "      <th></th>\n",
       "      <th>Candy</th>\n",
       "      <th>Pounds</th>\n",
       "    </tr>\n",
       "  </thead>\n",
       "  <tbody>\n",
       "    <tr>\n",
       "      <th>0</th>\n",
       "      <td>Total</td>\n",
       "      <td>104709</td>\n",
       "    </tr>\n",
       "    <tr>\n",
       "      <th>1</th>\n",
       "      <td>Tootsie Pops</td>\n",
       "      <td>58740</td>\n",
       "    </tr>\n",
       "    <tr>\n",
       "      <th>2</th>\n",
       "      <td>Salt Water Taffy</td>\n",
       "      <td>33200</td>\n",
       "    </tr>\n",
       "    <tr>\n",
       "      <th>3</th>\n",
       "      <td>Skittles</td>\n",
       "      <td>12769</td>\n",
       "    </tr>\n",
       "  </tbody>\n",
       "</table>\n",
       "</div>"
      ],
      "text/plain": [
       "              Candy  Pounds\n",
       "0             Total  104709\n",
       "1      Tootsie Pops   58740\n",
       "2  Salt Water Taffy   33200\n",
       "3          Skittles   12769"
      ]
     },
     "execution_count": 33,
     "metadata": {},
     "output_type": "execute_result"
    }
   ],
   "source": [
    "#Dirty way\n",
    "\n",
    "df_candy_tn = pd.DataFrame([['Total', 104709], ['Tootsie Pops', 58740], ['Salt Water Taffy', 33200], ['Skittles', 12769]], \n",
    "                           columns = ['Candy', 'Pounds'])\n",
    "df_candy_tn"
   ]
  },
  {
   "cell_type": "code",
   "execution_count": 34,
   "metadata": {},
   "outputs": [
    {
     "data": {
      "image/png": "[encoded data removed]",
      "text/plain": [
       "<Figure size 360x360 with 1 Axes>"
      ]
     },
     "metadata": {},
     "output_type": "display_data"
    }
   ],
   "source": [
    "sns.set_style('darkgrid')\n",
    "sns.set_palette('bright')\n",
    "\n",
    "g0 = sns.catplot(x = 'Candy', y = 'Pounds', \n",
    "            data = df_candy_tn, kind = 'bar')"
   ]
  },
  {
   "cell_type": "markdown",
   "metadata": {},
   "source": [
    "Step #13 - Find the 5 candies that show up most frequently (1st, 2nd, and 3rd places combined) in the dataset."
   ]
  },
  {
   "cell_type": "code",
   "execution_count": 35,
   "metadata": {},
   "outputs": [],
   "source": [
    "df_candy_count = df_candy_pop[['top_candy', 'second_place', 'third_place']].apply(pd.Series.value_counts)"
   ]
  },
  {
   "cell_type": "code",
   "execution_count": null,
   "metadata": {},
   "outputs": [],
   "source": []
  },
  {
   "cell_type": "code",
   "execution_count": 36,
   "metadata": {},
   "outputs": [],
   "source": [
    "df_candy_count['count'] = df_candy_count.sum(axis = 1)"
   ]
  },
  {
   "cell_type": "code",
   "execution_count": 37,
   "metadata": {},
   "outputs": [
    {
     "data": {
      "text/plain": [
       "M&M's                         16.0\n",
       "Skittles                      13.0\n",
       "Reese's Peanut Butter Cups    12.0\n",
       "Candy Corn                    12.0\n",
       "Tootsie Pops                   9.0\n",
       "Name: count, dtype: float64"
      ]
     },
     "execution_count": 37,
     "metadata": {},
     "output_type": "execute_result"
    }
   ],
   "source": [
    "df_candy_count.groupby(df_candy_count.index)['count'].sum().sort_values(ascending = False).head(5)"
   ]
  },
  {
   "cell_type": "code",
   "execution_count": 38,
   "metadata": {},
   "outputs": [],
   "source": [
    "df_candy_count.sort_values('count', ascending = False, inplace = True)"
   ]
  },
  {
   "cell_type": "code",
   "execution_count": 39,
   "metadata": {},
   "outputs": [
    {
     "data": {
      "text/html": [
       "<div>\n",
       "<style scoped>\n",
       "    .dataframe tbody tr th:only-of-type {\n",
       "        vertical-align: middle;\n",
       "    }\n",
       "\n",
       "    .dataframe tbody tr th {\n",
       "        vertical-align: top;\n",
       "    }\n",
       "\n",
       "    .dataframe thead th {\n",
       "        text-align: right;\n",
       "    }\n",
       "</style>\n",
       "<table border=\"1\" class=\"dataframe\">\n",
       "  <thead>\n",
       "    <tr style=\"text-align: right;\">\n",
       "      <th></th>\n",
       "      <th>top_candy</th>\n",
       "      <th>second_place</th>\n",
       "      <th>third_place</th>\n",
       "      <th>count</th>\n",
       "    </tr>\n",
       "  </thead>\n",
       "  <tbody>\n",
       "    <tr>\n",
       "      <th>M&amp;M's</th>\n",
       "      <td>3.0</td>\n",
       "      <td>8.0</td>\n",
       "      <td>5.0</td>\n",
       "      <td>16.0</td>\n",
       "    </tr>\n",
       "    <tr>\n",
       "      <th>Skittles</th>\n",
       "      <td>3.0</td>\n",
       "      <td>4.0</td>\n",
       "      <td>6.0</td>\n",
       "      <td>13.0</td>\n",
       "    </tr>\n",
       "    <tr>\n",
       "      <th>Candy Corn</th>\n",
       "      <td>5.0</td>\n",
       "      <td>3.0</td>\n",
       "      <td>4.0</td>\n",
       "      <td>12.0</td>\n",
       "    </tr>\n",
       "    <tr>\n",
       "      <th>Reese's Peanut Butter Cups</th>\n",
       "      <td>5.0</td>\n",
       "      <td>4.0</td>\n",
       "      <td>3.0</td>\n",
       "      <td>12.0</td>\n",
       "    </tr>\n",
       "    <tr>\n",
       "      <th>Tootsie Pops</th>\n",
       "      <td>3.0</td>\n",
       "      <td>3.0</td>\n",
       "      <td>3.0</td>\n",
       "      <td>9.0</td>\n",
       "    </tr>\n",
       "    <tr>\n",
       "      <th>Starburst</th>\n",
       "      <td>2.0</td>\n",
       "      <td>4.0</td>\n",
       "      <td>2.0</td>\n",
       "      <td>8.0</td>\n",
       "    </tr>\n",
       "    <tr>\n",
       "      <th>Snickers</th>\n",
       "      <td>2.0</td>\n",
       "      <td>4.0</td>\n",
       "      <td>2.0</td>\n",
       "      <td>8.0</td>\n",
       "    </tr>\n",
       "    <tr>\n",
       "      <th>Milky Way</th>\n",
       "      <td>3.0</td>\n",
       "      <td>3.0</td>\n",
       "      <td>2.0</td>\n",
       "      <td>8.0</td>\n",
       "    </tr>\n",
       "    <tr>\n",
       "      <th>Butterfinger</th>\n",
       "      <td>2.0</td>\n",
       "      <td>1.0</td>\n",
       "      <td>4.0</td>\n",
       "      <td>7.0</td>\n",
       "    </tr>\n",
       "    <tr>\n",
       "      <th>Sour Patch Kids</th>\n",
       "      <td>3.0</td>\n",
       "      <td>2.0</td>\n",
       "      <td>1.0</td>\n",
       "      <td>6.0</td>\n",
       "    </tr>\n",
       "    <tr>\n",
       "      <th>Salt Water Taffy</th>\n",
       "      <td>1.0</td>\n",
       "      <td>3.0</td>\n",
       "      <td>2.0</td>\n",
       "      <td>6.0</td>\n",
       "    </tr>\n",
       "    <tr>\n",
       "      <th>Hershey Kisses</th>\n",
       "      <td>2.0</td>\n",
       "      <td>2.0</td>\n",
       "      <td>2.0</td>\n",
       "      <td>6.0</td>\n",
       "    </tr>\n",
       "    <tr>\n",
       "      <th>Dubble Bubble Gum</th>\n",
       "      <td>1.0</td>\n",
       "      <td>2.0</td>\n",
       "      <td>2.0</td>\n",
       "      <td>5.0</td>\n",
       "    </tr>\n",
       "    <tr>\n",
       "      <th>Jolly Ranchers Candy</th>\n",
       "      <td>2.0</td>\n",
       "      <td>2.0</td>\n",
       "      <td>1.0</td>\n",
       "      <td>5.0</td>\n",
       "    </tr>\n",
       "    <tr>\n",
       "      <th>Twix</th>\n",
       "      <td>2.0</td>\n",
       "      <td>1.0</td>\n",
       "      <td>1.0</td>\n",
       "      <td>4.0</td>\n",
       "    </tr>\n",
       "    <tr>\n",
       "      <th>Almond Joy</th>\n",
       "      <td>1.0</td>\n",
       "      <td>NaN</td>\n",
       "      <td>3.0</td>\n",
       "      <td>4.0</td>\n",
       "    </tr>\n",
       "    <tr>\n",
       "      <th>Blow Pops</th>\n",
       "      <td>1.0</td>\n",
       "      <td>2.0</td>\n",
       "      <td>1.0</td>\n",
       "      <td>4.0</td>\n",
       "    </tr>\n",
       "    <tr>\n",
       "      <th>Lemonheads</th>\n",
       "      <td>1.0</td>\n",
       "      <td>NaN</td>\n",
       "      <td>2.0</td>\n",
       "      <td>3.0</td>\n",
       "    </tr>\n",
       "    <tr>\n",
       "      <th>Hot Tamales Minis</th>\n",
       "      <td>NaN</td>\n",
       "      <td>NaN</td>\n",
       "      <td>3.0</td>\n",
       "      <td>3.0</td>\n",
       "    </tr>\n",
       "    <tr>\n",
       "      <th>Hershey's Mini Chocolate Candy Bars</th>\n",
       "      <td>1.0</td>\n",
       "      <td>1.0</td>\n",
       "      <td>1.0</td>\n",
       "      <td>3.0</td>\n",
       "    </tr>\n",
       "    <tr>\n",
       "      <th>Hot Tamales</th>\n",
       "      <td>3.0</td>\n",
       "      <td>NaN</td>\n",
       "      <td>NaN</td>\n",
       "      <td>3.0</td>\n",
       "    </tr>\n",
       "    <tr>\n",
       "      <th>3 Musketeers</th>\n",
       "      <td>1.0</td>\n",
       "      <td>1.0</td>\n",
       "      <td>NaN</td>\n",
       "      <td>2.0</td>\n",
       "    </tr>\n",
       "    <tr>\n",
       "      <th>Kit Kat</th>\n",
       "      <td>1.0</td>\n",
       "      <td>NaN</td>\n",
       "      <td>1.0</td>\n",
       "      <td>2.0</td>\n",
       "    </tr>\n",
       "    <tr>\n",
       "      <th>Life Savers</th>\n",
       "      <td>1.0</td>\n",
       "      <td>NaN</td>\n",
       "      <td>NaN</td>\n",
       "      <td>1.0</td>\n",
       "    </tr>\n",
       "    <tr>\n",
       "      <th>Hawaiian Host</th>\n",
       "      <td>NaN</td>\n",
       "      <td>1.0</td>\n",
       "      <td>NaN</td>\n",
       "      <td>1.0</td>\n",
       "    </tr>\n",
       "  </tbody>\n",
       "</table>\n",
       "</div>"
      ],
      "text/plain": [
       "                                     top_candy  second_place  third_place  \\\n",
       "M&M's                                      3.0           8.0          5.0   \n",
       "Skittles                                   3.0           4.0          6.0   \n",
       "Candy Corn                                 5.0           3.0          4.0   \n",
       "Reese's Peanut Butter Cups                 5.0           4.0          3.0   \n",
       "Tootsie Pops                               3.0           3.0          3.0   \n",
       "Starburst                                  2.0           4.0          2.0   \n",
       "Snickers                                   2.0           4.0          2.0   \n",
       "Milky Way                                  3.0           3.0          2.0   \n",
       "Butterfinger                               2.0           1.0          4.0   \n",
       "Sour Patch Kids                            3.0           2.0          1.0   \n",
       "Salt Water Taffy                           1.0           3.0          2.0   \n",
       "Hershey Kisses                             2.0           2.0          2.0   \n",
       "Dubble Bubble Gum                          1.0           2.0          2.0   \n",
       "Jolly Ranchers Candy                       2.0           2.0          1.0   \n",
       "Twix                                       2.0           1.0          1.0   \n",
       "Almond Joy                                 1.0           NaN          3.0   \n",
       "Blow Pops                                  1.0           2.0          1.0   \n",
       "Lemonheads                                 1.0           NaN          2.0   \n",
       "Hot Tamales Minis                          NaN           NaN          3.0   \n",
       "Hershey's Mini Chocolate Candy Bars        1.0           1.0          1.0   \n",
       "Hot Tamales                                3.0           NaN          NaN   \n",
       "3 Musketeers                               1.0           1.0          NaN   \n",
       "Kit Kat                                    1.0           NaN          1.0   \n",
       "Life Savers                                1.0           NaN          NaN   \n",
       "Hawaiian Host                              NaN           1.0          NaN   \n",
       "\n",
       "                                     count  \n",
       "M&M's                                 16.0  \n",
       "Skittles                              13.0  \n",
       "Candy Corn                            12.0  \n",
       "Reese's Peanut Butter Cups            12.0  \n",
       "Tootsie Pops                           9.0  \n",
       "Starburst                              8.0  \n",
       "Snickers                               8.0  \n",
       "Milky Way                              8.0  \n",
       "Butterfinger                           7.0  \n",
       "Sour Patch Kids                        6.0  \n",
       "Salt Water Taffy                       6.0  \n",
       "Hershey Kisses                         6.0  \n",
       "Dubble Bubble Gum                      5.0  \n",
       "Jolly Ranchers Candy                   5.0  \n",
       "Twix                                   4.0  \n",
       "Almond Joy                             4.0  \n",
       "Blow Pops                              4.0  \n",
       "Lemonheads                             3.0  \n",
       "Hot Tamales Minis                      3.0  \n",
       "Hershey's Mini Chocolate Candy Bars    3.0  \n",
       "Hot Tamales                            3.0  \n",
       "3 Musketeers                           2.0  \n",
       "Kit Kat                                2.0  \n",
       "Life Savers                            1.0  \n",
       "Hawaiian Host                          1.0  "
      ]
     },
     "execution_count": 39,
     "metadata": {},
     "output_type": "execute_result"
    }
   ],
   "source": [
    "df_candy_count.head(25)"
   ]
  },
  {
   "cell_type": "markdown",
   "metadata": {},
   "source": [
    "Step #13 - Create a bar plot to show the number of times these five candies appear in the dataset"
   ]
  },
  {
   "cell_type": "code",
   "execution_count": 40,
   "metadata": {},
   "outputs": [
    {
     "data": {
      "text/plain": [
       "[Text(0, 0.5, ''), Text(0.5, 0, 'Number of Times Candy Occured in Top 3')]"
      ]
     },
     "execution_count": 40,
     "metadata": {},
     "output_type": "execute_result"
    },
    {
     "data": {
      "image/png": "[encoded data removed]",
      "text/plain": [
       "<Figure size 720x720 with 1 Axes>"
      ]
     },
     "metadata": {},
     "output_type": "display_data"
    }
   ],
   "source": [
    "sns.set_style('darkgrid')\n",
    "sns.set_palette('bright')\n",
    "\n",
    "fig, ax0 = plt.subplots(figsize = (10,10))\n",
    "\n",
    "g0 = sns.barplot(x = 'count', y = df_candy_count.index, \n",
    "            data = df_candy_count, ax = ax0,)\n",
    "\n",
    "#Created xlim because I think it makes a good reference\n",
    "#Removed y axis label on purpose because it would be redundant/obvious\n",
    "\n",
    "ax0.set_title('Candy by Selected Occurances')\n",
    "ax0.set(xlabel = 'Number of Times Candy Occured in Top 3', ylabel = '')"
   ]
  },
  {
   "cell_type": "markdown",
   "metadata": {},
   "source": [
    "Step #14 - Find all unique candies, those that appear in the state's top-3 list but do not appear in any other state's list. Report both the candy name and the state in whose list is appears. "
   ]
  },
  {
   "cell_type": "code",
   "execution_count": 41,
   "metadata": {},
   "outputs": [
    {
     "data": {
      "text/plain": [
       "M&M's                                  False\n",
       "Skittles                               False\n",
       "Candy Corn                             False\n",
       "Reese's Peanut Butter Cups             False\n",
       "Tootsie Pops                           False\n",
       "Starburst                              False\n",
       "Snickers                               False\n",
       "Milky Way                              False\n",
       "Butterfinger                           False\n",
       "Sour Patch Kids                        False\n",
       "Salt Water Taffy                       False\n",
       "Hershey Kisses                         False\n",
       "Dubble Bubble Gum                      False\n",
       "Jolly Ranchers Candy                   False\n",
       "Twix                                   False\n",
       "Almond Joy                             False\n",
       "Blow Pops                              False\n",
       "Lemonheads                             False\n",
       "Hot Tamales Minis                      False\n",
       "Hershey's Mini Chocolate Candy Bars    False\n",
       "Hot Tamales                            False\n",
       "3 Musketeers                           False\n",
       "Kit Kat                                False\n",
       "Life Savers                             True\n",
       "Hawaiian Host                           True\n",
       "Swedish Fish                            True\n",
       "Assorted Salt Water Taffy               True\n",
       "Name: count, dtype: bool"
      ]
     },
     "execution_count": 41,
     "metadata": {},
     "output_type": "execute_result"
    }
   ],
   "source": [
    "df_candy_count['count'] == 1.0"
   ]
  },
  {
   "cell_type": "code",
   "execution_count": 42,
   "metadata": {},
   "outputs": [
    {
     "name": "stdout",
     "output_type": "stream",
     "text": [
      "            top_candy  top_candy_pounds second_place  second_place_pounds  \\\n",
      "state                                                                       \n",
      "Delaware  Life Savers             19905     Skittles                17061   \n",
      "\n",
      "         third_place  third_place_pounds  total_pounds     pop  per_capita  \n",
      "state                                                                       \n",
      "Delaware  Candy Corn                8530         45496  961939    0.047296  \n"
     ]
    }
   ],
   "source": [
    "print(df_candy_pop[df_candy_pop['top_candy'].str.contains('Life Savers') |\n",
    "            df_candy_pop['second_place'].str.contains('Life Savers') |\n",
    "            df_candy_pop['third_place'].str.contains('Life Savers')])"
   ]
  },
  {
   "cell_type": "code",
   "execution_count": 43,
   "metadata": {},
   "outputs": [
    {
     "name": "stdout",
     "output_type": "stream",
     "text": [
      "             top_candy  top_candy_pounds   second_place  second_place_pounds  \\\n",
      "state                                                                          \n",
      "Hawaii  Hershey Kisses            271042  Hawaiian Host               255984   \n",
      "\n",
      "       third_place  third_place_pounds  total_pounds      pop  per_capita  \n",
      "state                                                                      \n",
      "Hawaii   Milky Way              105405        632431  1427538    0.443022  \n"
     ]
    }
   ],
   "source": [
    "print(df_candy_pop[df_candy_pop['top_candy'].str.contains('Hawaiian Host') |\n",
    "            df_candy_pop['second_place'].str.contains('Hawaiian Host') |\n",
    "            df_candy_pop['third_place'].str.contains('Hawaiian Host')])"
   ]
  },
  {
   "cell_type": "code",
   "execution_count": 44,
   "metadata": {},
   "outputs": [
    {
     "name": "stdout",
     "output_type": "stream",
     "text": [
      "            top_candy  top_candy_pounds    second_place  second_place_pounds  \\\n",
      "state                                                                          \n",
      "Georgia  Swedish Fish            148731  Hershey Kisses                88136   \n",
      "\n",
      "        third_place  third_place_pounds  total_pounds       pop  per_capita  \n",
      "state                                                                        \n",
      "Georgia  Lemonheads               38559        275426  10429379    0.026409  \n"
     ]
    }
   ],
   "source": [
    "print(df_candy_pop[df_candy_pop['top_candy'].str.contains('Swedish Fish') |\n",
    "            df_candy_pop['second_place'].str.contains('Swedish Fish') |\n",
    "            df_candy_pop['third_place'].str.contains('Swedish Fish')])"
   ]
  },
  {
   "cell_type": "code",
   "execution_count": 45,
   "metadata": {},
   "outputs": [
    {
     "name": "stdout",
     "output_type": "stream",
     "text": [
      "                            top_candy  top_candy_pounds second_place  \\\n",
      "state                                                                  \n",
      "California  Assorted Salt Water Taffy           1650000        M&M's   \n",
      "\n",
      "            second_place_pounds third_place  third_place_pounds  total_pounds  \\\n",
      "state                                                                           \n",
      "California              1188000    Skittles              726000       3564000   \n",
      "\n",
      "                 pop  per_capita  \n",
      "state                             \n",
      "California  39536653    0.090144  \n"
     ]
    }
   ],
   "source": [
    "print(df_candy_pop[df_candy_pop['top_candy'].str.contains('Assorted Salt Water Taffy') |\n",
    "            df_candy_pop['second_place'].str.contains('Assorted Salt Water Taffy') |\n",
    "            df_candy_pop['third_place'].str.contains('Assorted Salt Water Taffy')])"
   ]
  }
 ],
 "metadata": {
  "kernelspec": {
   "display_name": "Python 3",
   "language": "python",
   "name": "python3"
  },
  "language_info": {
   "codemirror_mode": {
    "name": "ipython",
    "version": 3
   },
   "file_extension": ".py",
   "mimetype": "text/x-python",
   "name": "python",
   "nbconvert_exporter": "python",
   "pygments_lexer": "ipython3",
   "version": "3.8.3"
  }
 },
 "nbformat": 4,
 "nbformat_minor": 4
}
