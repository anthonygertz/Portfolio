{
 "cells": [
  {
   "cell_type": "code",
   "execution_count": 1,
   "metadata": {},
   "outputs": [],
   "source": [
    "import pandas as pd\n",
    "import numpy as np\n",
    "from numpy import absolute\n",
    "from numpy import mean\n",
    "from numpy import std\n",
    "from numpy import arange\n",
    "import matplotlib.pyplot as plt\n",
    "import seaborn as sns\n",
    "\n",
    "from sklearn import datasets\n",
    "\n",
    "from sklearn.compose import ColumnTransformer\n",
    "from sklearn.compose import TransformedTargetRegressor\n",
    "\n",
    "from sklearn.linear_model import LinearRegression\n",
    "from sklearn.linear_model import Lasso\n",
    "from sklearn.linear_model import Ridge\n",
    "\n",
    "from sklearn.metrics import mean_absolute_error\n",
    "from sklearn.metrics import mean_absolute_percentage_error\n",
    "from sklearn.metrics import mean_squared_error\n",
    "from sklearn.metrics import r2_score\n",
    "\n",
    "from sklearn.model_selection import cross_val_score\n",
    "from sklearn.model_selection import GridSearchCV\n",
    "from sklearn.model_selection import RepeatedKFold\n",
    "from sklearn.model_selection import train_test_split\n",
    "\n",
    "from sklearn.neighbors import KNeighborsClassifier\n",
    "\n",
    "from sklearn.pipeline import Pipeline\n",
    "\n",
    "from sklearn.preprocessing import PolynomialFeatures\n",
    "from sklearn.preprocessing import PowerTransformer"
   ]
  },
  {
   "cell_type": "code",
   "execution_count": 2,
   "metadata": {},
   "outputs": [],
   "source": [
    "train = pd.read_csv('data/train.csv')\n",
    "test = pd.read_csv('data/test.csv')"
   ]
  },
  {
   "cell_type": "code",
   "execution_count": 3,
   "metadata": {},
   "outputs": [],
   "source": [
    "pd.set_option('display.max_columns', 500)"
   ]
  },
  {
   "cell_type": "code",
   "execution_count": 4,
   "metadata": {},
   "outputs": [],
   "source": [
    "#Calculates the mean values of Fss, Fsv, and Fvv across all rows of their 96 columns\n",
    "\n",
    "train['Fss_mean'] = train.iloc[:, 4:100].apply(np.mean, axis = 1)\n",
    "train['Fsv_mean'] = train.iloc[:, 100:196].apply(np.mean, axis = 1)\n",
    "train['Fvv_mean'] = train.iloc[:, 196:292].apply(np.mean, axis = 1)\n",
    "\n",
    "test['Fss_mean'] = test.iloc[:, 3:99].apply(np.mean, axis = 1)\n",
    "test['Fsv_mean'] = test.iloc[:, 99:195].apply(np.mean, axis = 1)\n",
    "test['Fvv_mean'] = test.iloc[:, 195:291].apply(np.mean, axis = 1)"
   ]
  },
  {
   "cell_type": "code",
   "execution_count": 5,
   "metadata": {},
   "outputs": [],
   "source": [
    "#Drops the Fss, Fsv, and Fvv columns that were used to calculate the mean values in the block above\n",
    "\n",
    "train = train.drop(train.iloc[:, 4:292], axis = 1)\n",
    "test = test.drop(test.iloc[:, 3:291], axis = 1)"
   ]
  },
  {
   "cell_type": "code",
   "execution_count": 6,
   "metadata": {},
   "outputs": [],
   "source": [
    "#Assigns our predictor and target variables from our training dataset\n",
    "\n",
    "X = train[['phi', 's', 'tau', 'Fss_mean', 'Fsv_mean', 'Fvv_mean']]\n",
    "y = train['permeability']"
   ]
  },
  {
   "cell_type": "code",
   "execution_count": 7,
   "metadata": {},
   "outputs": [],
   "source": [
    "#Our train_test_split statement dividing up the data and establishing variable names for analysis\n",
    "\n",
    "X_train, X_test, y_train, y_test = train_test_split(\n",
    "    X, y, random_state = 8669, test_size=0.25\n",
    ")"
   ]
  },
  {
   "cell_type": "code",
   "execution_count": 8,
   "metadata": {},
   "outputs": [],
   "source": [
    "lasso = Lasso(normalize = True)"
   ]
  },
  {
   "cell_type": "code",
   "execution_count": 21,
   "metadata": {},
   "outputs": [],
   "source": [
    "#Applies the column transformer to the 3 variables that were greatly skewed\n",
    "\n",
    "ct = ColumnTransformer(transformers = [\n",
    "    ('yeo-johnson', PowerTransformer(), ['phi', 's', 'tau', 'Fss_mean', 'Fsv_mean', 'Fvv_mean']),\n",
    "    ('poly', PolynomialFeatures(degree = 2, include_bias = False), ['phi', 's', 'tau', 'Fss_mean', 'Fsv_mean', 'Fvv_mean'])\n",
    "], remainder = 'passthrough')\n",
    "\n",
    "#Creates a pipeline\n",
    "\n",
    "pipe = Pipeline(steps = [\n",
    "    ('transform', ct),\n",
    "    ('ridge', Lasso(alpha = 0.0001, normalize = True))\n",
    "])"
   ]
  },
  {
   "cell_type": "code",
   "execution_count": 22,
   "metadata": {},
   "outputs": [],
   "source": [
    "#Applies the...I don't really understand what this does yet, it looks like it applies a log function across everything\n",
    "\n",
    "ttr = TransformedTargetRegressor(regressor = pipe, func = np.log, inverse_func = np.exp)"
   ]
  },
  {
   "cell_type": "code",
   "execution_count": 23,
   "metadata": {},
   "outputs": [],
   "source": [
    "#Creates the model using our training subset\n",
    "\n",
    "ttr.fit(X_train, y_train);"
   ]
  },
  {
   "cell_type": "code",
   "execution_count": 24,
   "metadata": {},
   "outputs": [
    {
     "data": {
      "text/plain": [
       "1.6273682941987273"
      ]
     },
     "execution_count": 24,
     "metadata": {},
     "output_type": "execute_result"
    }
   ],
   "source": [
    "np.sqrt(mean_squared_error(y_test, ttr.predict(X_test)))"
   ]
  },
  {
   "cell_type": "code",
   "execution_count": 25,
   "metadata": {},
   "outputs": [
    {
     "data": {
      "text/plain": [
       "0.6243968707872325"
      ]
     },
     "execution_count": 25,
     "metadata": {},
     "output_type": "execute_result"
    }
   ],
   "source": [
    "mean_absolute_error(y_test, ttr.predict(X_test))"
   ]
  },
  {
   "cell_type": "code",
   "execution_count": 26,
   "metadata": {},
   "outputs": [],
   "source": [
    "#Assigns a variable we can use to get a .score()\n",
    "\n",
    "lasso_test1 = ttr.fit(X_train, y_train)"
   ]
  },
  {
   "cell_type": "code",
   "execution_count": 27,
   "metadata": {},
   "outputs": [
    {
     "data": {
      "text/plain": [
       "0.9651031042067073"
      ]
     },
     "execution_count": 27,
     "metadata": {},
     "output_type": "execute_result"
    }
   ],
   "source": [
    "lasso_test1.score(X_test, y_test)"
   ]
  },
  {
   "cell_type": "code",
   "execution_count": 28,
   "metadata": {},
   "outputs": [],
   "source": [
    "#Assigns a variable to the .fit() --that we used earlier-- and .predict() so we can see our model graphed and later apply\n",
    "#it to our test.csv\n",
    "\n",
    "lasso_test1_pred = ttr.fit(X_train, y_train).predict(X_test)"
   ]
  },
  {
   "cell_type": "code",
   "execution_count": 29,
   "metadata": {},
   "outputs": [
    {
     "data": {
      "image/png": "[encoded data removed]",
      "text/plain": [
       "<Figure size 720x432 with 1 Axes>"
      ]
     },
     "metadata": {
      "needs_background": "light"
     },
     "output_type": "display_data"
    }
   ],
   "source": [
    "#Graph via Tim's notebook that shows our model and test data\n",
    "\n",
    "plt.figure(figsize = (10,6))\n",
    "\n",
    "plt.scatter(y_test, ttr.predict(X_test), alpha = 0.7, edgecolor = 'black')\n",
    "\n",
    "fontsize = 18\n",
    "plt.xlabel('True', fontsize = fontsize)\n",
    "plt.ylabel('Predicted', fontsize = fontsize)\n",
    "\n",
    "ymin, ymax = plt.ylim()\n",
    "xmin, xmax = plt.xlim()\n",
    "\n",
    "start = min(xmin, ymin)\n",
    "stop = max(xmax, ymax)\n",
    "plt.plot([start, stop], [start, stop], color = 'black', label = '$y = x$')\n",
    "plt.legend(fontsize = fontsize)\n",
    "plt.xlim(xmin, xmax)\n",
    "plt.ylim(ymin, ymax);"
   ]
  },
  {
   "cell_type": "code",
   "execution_count": 30,
   "metadata": {},
   "outputs": [],
   "source": [
    "#Creates an empty dataframe to store the predicted values\n",
    "\n",
    "lasso_test1_results = pd.DataFrame()"
   ]
  },
  {
   "cell_type": "code",
   "execution_count": 31,
   "metadata": {},
   "outputs": [],
   "source": [
    "#Saves predicted values into the df's permeability columns\n",
    "\n",
    "#Notice that the .predict calls our test df and not our train df\n",
    "\n",
    "#Out training data frame is used since it's called already by .fit(), the coefficiencts are then applied across the test df \n",
    "#because we called them here in the .predict()\n",
    "\n",
    "#This has to be done since there is not an easy way to pull out the coefficients from the transformations within the column\n",
    "#transformer since their yeo/log/poly etc\n",
    "\n",
    "lasso_test1_results['permeability'] = lasso_test1.predict(test)"
   ]
  },
  {
   "cell_type": "code",
   "execution_count": 32,
   "metadata": {},
   "outputs": [],
   "source": [
    "#Exports as a csv with a proper index lavel of id to match the samplesubmission format\n",
    "\n",
    "lasso_test1_results.to_csv('data/lasso_test1_results.csv', index_label = 'id')"
   ]
  },
  {
   "cell_type": "code",
   "execution_count": null,
   "metadata": {},
   "outputs": [],
   "source": []
  }
 ],
 "metadata": {
  "kernelspec": {
   "display_name": "Python 3",
   "language": "python",
   "name": "python3"
  },
  "language_info": {
   "codemirror_mode": {
    "name": "ipython",
    "version": 3
   },
   "file_extension": ".py",
   "mimetype": "text/x-python",
   "name": "python",
   "nbconvert_exporter": "python",
   "pygments_lexer": "ipython3",
   "version": "3.7.10"
  }
 },
 "nbformat": 4,
 "nbformat_minor": 4
}
