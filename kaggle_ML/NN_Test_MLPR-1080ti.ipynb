{
 "cells": [
  {
   "cell_type": "code",
   "execution_count": 27,
   "id": "moving-necklace",
   "metadata": {},
   "outputs": [],
   "source": [
    "import pandas as pd\n",
    "import numpy as np\n",
    "import matplotlib.pyplot as plt\n",
    "\n",
    "import warnings\n",
    "warnings.filterwarnings('ignore',category=FutureWarning)\n",
    "\n",
    "from keras.models import Sequential\n",
    "from keras.layers import Dense\n",
    "\n",
    "import keras as ks\n",
    "\n",
    "from sklearn.model_selection import train_test_split\n",
    "from sklearn.metrics import mean_absolute_error\n",
    "from sklearn.metrics import mean_squared_error\n",
    "from sklearn.neural_network import MLPRegressor\n",
    "from sklearn.preprocessing import PowerTransformer, MinMaxScaler, PolynomialFeatures\n",
    "from sklearn.compose import ColumnTransformer, TransformedTargetRegressor\n",
    "from sklearn.pipeline import Pipeline\n",
    "\n",
    "import tensorflow as tf\n",
    "\n",
    "from keras.callbacks import EarlyStopping, ModelCheckpoint"
   ]
  },
  {
   "cell_type": "code",
   "execution_count": 28,
   "id": "absolute-lyric",
   "metadata": {},
   "outputs": [],
   "source": [
    "#tf.config.list_physical_devices('GPU')"
   ]
  },
  {
   "cell_type": "code",
   "execution_count": 29,
   "id": "hearing-favorite",
   "metadata": {},
   "outputs": [],
   "source": [
    "#tf.config.experimental.list_physical_devices(device_type = None)"
   ]
  },
  {
   "cell_type": "code",
   "execution_count": 30,
   "id": "norwegian-raise",
   "metadata": {},
   "outputs": [],
   "source": [
    "#tf.config.list_physical_devices(device_type = None)"
   ]
  },
  {
   "cell_type": "code",
   "execution_count": 31,
   "id": "legislative-mumbai",
   "metadata": {},
   "outputs": [],
   "source": [
    "with tf.device('/gpu:1'):\n",
    "    train = pd.read_csv('data/train.csv')\n",
    "    test = pd.read_csv('data/test.csv')"
   ]
  },
  {
   "cell_type": "code",
   "execution_count": 32,
   "id": "direct-writer",
   "metadata": {},
   "outputs": [],
   "source": [
    "with tf.device('/gpu:1'):\n",
    "    pd.set_option('display.max_columns', 500)"
   ]
  },
  {
   "cell_type": "code",
   "execution_count": 33,
   "id": "caroline-working",
   "metadata": {},
   "outputs": [],
   "source": [
    "with tf.device('/gpu:1'):\n",
    "    full_columns = train.columns.tolist()"
   ]
  },
  {
   "cell_type": "code",
   "execution_count": 34,
   "id": "legislative-technician",
   "metadata": {},
   "outputs": [],
   "source": [
    "with tf.device('/gpu:1'):\n",
    "    full_columns.remove('permeability')"
   ]
  },
  {
   "cell_type": "code",
   "execution_count": 35,
   "id": "musical-gambling",
   "metadata": {},
   "outputs": [],
   "source": [
    "with tf.device('/gpu:1'):\n",
    "    X = pd.DataFrame(train, columns = full_columns)\n",
    "\n",
    "    y = train['permeability']"
   ]
  },
  {
   "cell_type": "code",
   "execution_count": 36,
   "id": "incorrect-marriage",
   "metadata": {},
   "outputs": [],
   "source": [
    "with tf.device('/gpu:1'):\n",
    "    X_train, X_test, y_train, y_test = train_test_split(\n",
    "        X, y, random_state = 8669, test_size = 0.2\n",
    "    )"
   ]
  },
  {
   "cell_type": "code",
   "execution_count": 37,
   "id": "assigned-remark",
   "metadata": {},
   "outputs": [],
   "source": [
    "with tf.device('/gpu:1'):\n",
    "    nn = MLPRegressor(hidden_layer_sizes = (128,128,128,128), activation = 'relu', solver = 'adam', \n",
    "                  validation_fraction = 0.2, max_iter = 100000, early_stopping = True, \n",
    "                  random_state = 8669, shuffle = True, n_iter_no_change = 500, alpha = .0001)"
   ]
  },
  {
   "cell_type": "code",
   "execution_count": 38,
   "id": "imported-bracelet",
   "metadata": {},
   "outputs": [],
   "source": [
    "with tf.device('/gpu:1'):\n",
    "    ct = ColumnTransformer(transformers = [\n",
    "        ('yeo-johnson', PowerTransformer(), full_columns),\n",
    "    ], remainder = 'passthrough')\n",
    "\n",
    "    pipe = Pipeline(steps = [\n",
    "        ('transform', ct),\n",
    "        ('scale', MinMaxScaler())\n",
    "    ])"
   ]
  },
  {
   "cell_type": "code",
   "execution_count": 39,
   "id": "different-banana",
   "metadata": {},
   "outputs": [],
   "source": [
    "with tf.device('/gpu:1'):\n",
    "    X_train = pipe.fit_transform(X_train)\n",
    "    X_test = pipe.fit_transform(X_test)\n",
    "\n",
    "#X_train = pipe.fit_transform(X_train)\n",
    "#X_test = pipe.transform(X_test)"
   ]
  },
  {
   "cell_type": "code",
   "execution_count": 40,
   "id": "invisible-wyoming",
   "metadata": {},
   "outputs": [
    {
     "name": "stdout",
     "output_type": "stream",
     "text": [
      "Wall time: 11min 17s\n"
     ]
    }
   ],
   "source": [
    "%%time\n",
    "\n",
    "with tf.device('/gpu:1'):\n",
    "    nn.fit(X_train, y_train)"
   ]
  },
  {
   "cell_type": "code",
   "execution_count": 41,
   "id": "focal-bahamas",
   "metadata": {},
   "outputs": [
    {
     "name": "stdout",
     "output_type": "stream",
     "text": [
      "0.542188815609699\n"
     ]
    }
   ],
   "source": [
    "with tf.device('/gpu:1'):\n",
    "    print(mean_absolute_error(y_test, nn.predict(X_test)))"
   ]
  },
  {
   "cell_type": "code",
   "execution_count": 42,
   "id": "instant-cylinder",
   "metadata": {},
   "outputs": [
    {
     "name": "stdout",
     "output_type": "stream",
     "text": [
      "1.9406854173459418\n"
     ]
    }
   ],
   "source": [
    "with tf.device('/gpu:1'):\n",
    "    print(mean_squared_error(y_test, nn.predict(X_test)))"
   ]
  },
  {
   "cell_type": "code",
   "execution_count": 43,
   "id": "cutting-payday",
   "metadata": {},
   "outputs": [
    {
     "name": "stdout",
     "output_type": "stream",
     "text": [
      "0.0723103711188141\n"
     ]
    }
   ],
   "source": [
    "with tf.device('/gpu:1'):\n",
    "    print(np.sqrt(mean_squared_error(np.log(y_test + 1), np.log(nn.predict(X_test)+1))))"
   ]
  },
  {
   "cell_type": "code",
   "execution_count": 17,
   "id": "special-stage",
   "metadata": {},
   "outputs": [],
   "source": [
    "with tf.device('/gpu:1'):\n",
    "    test = pd.DataFrame(pipe.transform(test), columns = full_columns)"
   ]
  },
  {
   "cell_type": "code",
   "execution_count": 18,
   "id": "median-springfield",
   "metadata": {},
   "outputs": [],
   "source": [
    "with tf.device('/gpu:1'):\n",
    "    results = nn.predict(test)"
   ]
  },
  {
   "cell_type": "code",
   "execution_count": 44,
   "id": "upper-opening",
   "metadata": {},
   "outputs": [
    {
     "name": "stdout",
     "output_type": "stream",
     "text": [
      "0.25811720704353025\n"
     ]
    }
   ],
   "source": [
    "with tf.device('/gpu:1'):\n",
    "    print(nn.loss_)"
   ]
  },
  {
   "cell_type": "code",
   "execution_count": 45,
   "id": "collective-palestinian",
   "metadata": {},
   "outputs": [
    {
     "name": "stdout",
     "output_type": "stream",
     "text": [
      "2215\n"
     ]
    }
   ],
   "source": [
    "with tf.device('/gpu:1'):\n",
    "    print(nn.n_iter_)"
   ]
  },
  {
   "cell_type": "code",
   "execution_count": 46,
   "id": "spare-vacation",
   "metadata": {},
   "outputs": [
    {
     "name": "stdout",
     "output_type": "stream",
     "text": [
      "6\n"
     ]
    }
   ],
   "source": [
    "with tf.device('/gpu:1'):\n",
    "    print(nn.n_layers_)"
   ]
  },
  {
   "cell_type": "code",
   "execution_count": 22,
   "id": "plain-wheat",
   "metadata": {},
   "outputs": [],
   "source": [
    "with tf.device('/gpu:1'):\n",
    "    results = pd.DataFrame(results)"
   ]
  },
  {
   "cell_type": "code",
   "execution_count": 23,
   "id": "sunrise-pregnancy",
   "metadata": {},
   "outputs": [],
   "source": [
    "with tf.device('/gpu:1'):\n",
    "    test_results = pd.DataFrame()"
   ]
  },
  {
   "cell_type": "code",
   "execution_count": 24,
   "id": "spoken-validity",
   "metadata": {},
   "outputs": [],
   "source": [
    "with tf.device('/gpu:1'):\n",
    "    test_results['permeability'] = results[0]"
   ]
  },
  {
   "cell_type": "code",
   "execution_count": 25,
   "id": "useful-referral",
   "metadata": {},
   "outputs": [],
   "source": [
    "with tf.device('/gpu:1'):\n",
    "    test_results.to_csv('data/nn/mlpr_results_21.csv', index_label = 'id')"
   ]
  },
  {
   "cell_type": "code",
   "execution_count": null,
   "id": "convinced-account",
   "metadata": {},
   "outputs": [],
   "source": []
  }
 ],
 "metadata": {
  "kernelspec": {
   "display_name": "Python 3",
   "language": "python",
   "name": "python3"
  },
  "language_info": {
   "codemirror_mode": {
    "name": "ipython",
    "version": 3
   },
   "file_extension": ".py",
   "mimetype": "text/x-python",
   "name": "python",
   "nbconvert_exporter": "python",
   "pygments_lexer": "ipython3",
   "version": "3.7.10"
  }
 },
 "nbformat": 4,
 "nbformat_minor": 5
}
